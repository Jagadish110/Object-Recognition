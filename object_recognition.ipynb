{
 "cells": [
  {
   "cell_type": "code",
   "execution_count": 3,
   "id": "7afa3c46",
   "metadata": {},
   "outputs": [],
   "source": [
    "import numpy\n",
    "import tensorflow\n",
    "from tensorflow.keras.preprocessing.image import ImageDataGenerator\n",
    "from tensorflow.keras.layers import Flatten,Lambda,Conv2D,Dense,MaxPooling2D,Input,Dropout"
   ]
  },
  {
   "cell_type": "code",
   "execution_count": 15,
   "id": "9c26eb7a",
   "metadata": {},
   "outputs": [
    {
     "name": "stdout",
     "output_type": "stream",
     "text": [
      "Found 8000 images belonging to 2 classes.\n",
      "Found 2000 images belonging to 2 classes.\n"
     ]
    }
   ],
   "source": [
    "from tensorflow.keras.preprocessing.image import ImageDataGenerator\n",
    "\n",
    "# Correct rescale value\n",
    "training_datagen = ImageDataGenerator(rescale=1./255)\n",
    "test_datagen     = ImageDataGenerator(rescale=1./255)\n",
    "\n",
    "train = r'C:\\Users\\jagad\\OneDrive\\Desktop\\CNN from scratch\\dataset\\training_set'\n",
    "test  = r'C:\\Users\\jagad\\OneDrive\\Desktop\\CNN from scratch\\dataset\\test_set'\n",
    "\n",
    "training_set = training_datagen.flow_from_directory(\n",
    "    train,\n",
    "    batch_size=32,\n",
    "    target_size=(224, 224),\n",
    "    class_mode='binary'  \n",
    ")\n",
    "test_set = test_datagen.flow_from_directory(\n",
    "    test,\n",
    "    batch_size=32,\n",
    "    target_size=(224, 224),\n",
    "    class_mode='binary'   \n",
    ")"
   ]
  },
  {
   "cell_type": "markdown",
   "id": "bb8a4d5c",
   "metadata": {},
   "source": []
  },
  {
   "cell_type": "markdown",
   "id": "37dcf793",
   "metadata": {},
   "source": [
    "# creating the CNN model"
   ]
  },
  {
   "cell_type": "code",
   "execution_count": 47,
   "id": "23baf102",
   "metadata": {},
   "outputs": [],
   "source": [
    "from tensorflow.keras.models import Sequential\n",
    "from tensorflow.keras.layers import Conv2D, MaxPooling2D, Flatten, Dense, Dropout\n",
    "import keras_tuner as kt\n",
    "\n",
    "def create_model(hp):\n",
    "    model = Sequential()\n",
    "\n",
    "    model.add(Conv2D(\n",
    "        filters=hp.Int('conv1', min_value=8, max_value=64, step=8),\n",
    "        kernel_size=(3, 3),\n",
    "        activation='relu',\n",
    "        input_shape=(224, 224, 3),\n",
    "        name='cnn_firstlayer'\n",
    "    ))\n",
    "    model.add(MaxPooling2D(pool_size=(2, 2)))\n",
    "\n",
    "    model.add(Conv2D(\n",
    "        filters=hp.Int('conv2', min_value=16, max_value=128, step=16),\n",
    "        kernel_size=(3, 3),\n",
    "        activation='relu',\n",
    "        name='cnn_secondlayer'\n",
    "    ))\n",
    "    model.add(MaxPooling2D(pool_size=(2, 2)))\n",
    "\n",
    "    model.add(Flatten())\n",
    "\n",
    "    model.add(Dropout(\n",
    "        hp.Float('dropout_rate', min_value=0.1, max_value=0.5, step=0.1),\n",
    "        name='Drop_out1'\n",
    "    ))\n",
    "\n",
    "    model.add(Dense(\n",
    "        units=hp.Int(\"dense1\", min_value=32, max_value=256, step=32),\n",
    "        activation='relu',\n",
    "        name='Dense_layer'\n",
    "    ))\n",
    "\n",
    "    model.add(Dense(1, activation='sigmoid'))\n",
    "\n",
    "    model.compile(\n",
    "        optimizer='adam',\n",
    "        loss='binary_crossentropy',\n",
    "        metrics=['accuracy']\n",
    "    )\n",
    "\n",
    "    return model\n"
   ]
  },
  {
   "cell_type": "code",
   "execution_count": 48,
   "id": "92271c05",
   "metadata": {},
   "outputs": [],
   "source": [
    "tuner_search = kt.RandomSearch(\n",
    "    create_model,\n",
    "    objective='val_accuracy',\n",
    "    max_trials=7,\n",
    "    executions_per_trial=2,\n",
    "    directory='tunersearch',\n",
    "    project_name='dog_cat_recognition'\n",
    ")\n"
   ]
  },
  {
   "cell_type": "code",
   "execution_count": 51,
   "id": "4bf6b854",
   "metadata": {},
   "outputs": [
    {
     "name": "stdout",
     "output_type": "stream",
     "text": [
      "Trial 7 Complete [00h 12m 10s]\n",
      "val_accuracy: 0.7002499997615814\n",
      "\n",
      "Best val_accuracy So Far: 0.7317500114440918\n",
      "Total elapsed time: 02h 27m 30s\n"
     ]
    }
   ],
   "source": [
    "tuner_search.search(training_set,epochs=5,validation_data=test_set,)"
   ]
  },
  {
   "cell_type": "code",
   "execution_count": 60,
   "id": "b1ba718a",
   "metadata": {},
   "outputs": [
    {
     "name": "stderr",
     "output_type": "stream",
     "text": [
      "c:\\Users\\jagad\\AppData\\Local\\Programs\\Python\\Python310\\lib\\site-packages\\keras\\src\\layers\\convolutional\\base_conv.py:113: UserWarning: Do not pass an `input_shape`/`input_dim` argument to a layer. When using Sequential models, prefer using an `Input(shape)` object as the first layer in the model instead.\n",
      "  super().__init__(activity_regularizer=activity_regularizer, **kwargs)\n",
      "c:\\Users\\jagad\\AppData\\Local\\Programs\\Python\\Python310\\lib\\site-packages\\keras\\src\\saving\\saving_lib.py:802: UserWarning: Skipping variable loading for optimizer 'adam', because it has 2 variables whereas the saved optimizer has 18 variables. \n",
      "  saveable.load_own_variables(weights_store.get(inner_path))\n"
     ]
    }
   ],
   "source": [
    "best_model = tuner_search.get_best_models(1)[0]\n",
    "\n",
    "\n"
   ]
  },
  {
   "cell_type": "code",
   "execution_count": 61,
   "id": "640924db",
   "metadata": {},
   "outputs": [
    {
     "name": "stderr",
     "output_type": "stream",
     "text": [
      "WARNING:absl:You are saving your model as an HDF5 file via `model.save()` or `keras.saving.save_model(model)`. This file format is considered legacy. We recommend using instead the native Keras format, e.g. `model.save('my_model.keras')` or `keras.saving.save_model(model, 'my_model.keras')`. \n"
     ]
    }
   ],
   "source": [
    "best_model.save(\"cat_dog_model.h5\")"
   ]
  },
  {
   "cell_type": "code",
   "execution_count": null,
   "id": "f55ead09",
   "metadata": {},
   "outputs": [],
   "source": []
  }
 ],
 "metadata": {
  "kernelspec": {
   "display_name": "Python (myenv)",
   "language": "python",
   "name": "myenv"
  },
  "language_info": {
   "codemirror_mode": {
    "name": "ipython",
    "version": 3
   },
   "file_extension": ".py",
   "mimetype": "text/x-python",
   "name": "python",
   "nbconvert_exporter": "python",
   "pygments_lexer": "ipython3",
   "version": "3.10.11"
  }
 },
 "nbformat": 4,
 "nbformat_minor": 5
}
